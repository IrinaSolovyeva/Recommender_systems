{
 "cells": [
  {
   "cell_type": "markdown",
   "metadata": {
    "id": "425a10d7-caa9-4f84-abff-f528aeb4ab80"
   },
   "source": [
    "# Домашнее задание №1\n",
    "\n",
    "На семинаре мы проходили метрики, необходимо реализовать некоторые из них"
   ]
  },
  {
   "cell_type": "code",
   "execution_count": 14,
   "metadata": {
    "id": "6f4acf2d-e8a0-469a-8463-6dc26521c554"
   },
   "outputs": [],
   "source": [
    "import numpy as np\n",
    "import pandas as pd"
   ]
  },
  {
   "cell_type": "markdown",
   "metadata": {
    "id": "38a80a25-4ea6-49c9-a0f4-c7fc2a80dcc1"
   },
   "source": [
    "## Задание 1. Реализовать метрики Recall@k и  Money Recall@k\n",
    "\n",
    "*Recall* - доля рекомендованных товаров среди релевантных = Какой % купленных товаров был среди рекомендованных\n",
    "\n",
    "$$\\Large Recall@K(i) = \\frac {\\sum_{j=1}^{K}\\mathbb{1}_{r_{ij}}}{|Rel_i|}$$\n",
    "\n",
    "$\\Large |Rel_i|$ -- количество релевантных товаров для пользователя $i$\n",
    "\n",
    "$$\\Large MoneyRecall@K(i) = \\frac {\\sum_{j=1}^{K}\\mathbb{1}_{r_{ij}}\\cdot Price(j)}{\\sum_{s\\in Rel_i}Price(s)}$$\n"
   ]
  },
  {
   "cell_type": "code",
   "execution_count": 15,
   "metadata": {
    "id": "34a7db81-664c-4c9b-92c0-d565fa5487fc"
   },
   "outputs": [],
   "source": [
    "def recall_at_k(recommended_list, bought_list, k=5):\n",
    "    \n",
    "    bought_list = np.array(bought_list)\n",
    "    recommended_list = np.array(recommended_list)\n",
    "    \n",
    "    #TODO: Ваш код здесь\n",
    "    recommended_list = recommended_list[:k]\n",
    "    \n",
    "    flags = np.isin(bought_list, recommended_list)\n",
    "    \n",
    "    recall = flags.sum() / len(bought_list)\n",
    "    \n",
    "    return recall\n",
    "\n",
    "\n",
    "def money_recall_at_k(recommended_list, bought_list, prices_recommended, prices_bought, k=5):\n",
    "    \n",
    "    bought_list = np.array(bought_list)\n",
    "    recommended_list = np.array(recommended_list)\n",
    "    prices_recommended = np.array(prices_recommended)\n",
    "    prices_bought = np.array(prices_bought)\n",
    "    \n",
    "    #TODO: Ваш код здесь\n",
    "    recommended_list = np.array(recommended_list[:k])\n",
    "    prices_recommended = prices_recommended[:k]\n",
    "    \n",
    "    flags = np.isin(recommended_list, bought_list)\n",
    "    \n",
    "    recall = (flags * prices_recommended).sum() / prices_bought.sum()\n",
    "    \n",
    "    return recall"
   ]
  },
  {
   "cell_type": "code",
   "execution_count": 16,
   "metadata": {},
   "outputs": [],
   "source": [
    "recommended_list = [143, 156, 1134, 991, 27, 1543, 3345, 533, 11, 43]\n",
    "bought_list = [521, 32, 143, 991]\n",
    "prices_recommended = [100, 150, 1000, 250, 40, 50, 300, 200, 1300, 80]\n",
    "prices_bought = [50, 800, 100, 250]"
   ]
  },
  {
   "cell_type": "code",
   "execution_count": 17,
   "metadata": {},
   "outputs": [
    {
     "data": {
      "text/plain": [
       "0.5"
      ]
     },
     "execution_count": 17,
     "metadata": {},
     "output_type": "execute_result"
    }
   ],
   "source": [
    "recall_at_k(recommended_list, bought_list, k = 5)"
   ]
  },
  {
   "cell_type": "code",
   "execution_count": 18,
   "metadata": {},
   "outputs": [
    {
     "data": {
      "text/plain": [
       "0.2916666666666667"
      ]
     },
     "execution_count": 18,
     "metadata": {},
     "output_type": "execute_result"
    }
   ],
   "source": [
    "money_recall_at_k(recommended_list, bought_list, prices_recommended, prices_bought, k = 5)"
   ]
  },
  {
   "cell_type": "markdown",
   "metadata": {
    "id": "b42d4d0d-6073-47b6-ad54-586a477405e5"
   },
   "source": [
    "## Задание 2. Реализовать метрику MRR@k\n",
    "\n",
    "Mean Reciprocal Rank\n",
    "\n",
    "- Считаем для первых k рекоммендаций\n",
    "- Найти ранк первого релевантного предсказания $\\Large rank_j$\n",
    "- Посчитать reciprocal rank = $\\Large\\frac{1}{rank_j}$\n",
    "\n",
    "$$\\Large  MMR(i)@k=\\frac {1}{\\min\\limits_{j\\in Rel(i)} rank_j}$$"
   ]
  },
  {
   "cell_type": "code",
   "execution_count": 19,
   "metadata": {
    "id": "9c8940da-3621-4a54-8236-810a42ed4b77"
   },
   "outputs": [],
   "source": [
    "def mrr_at_k(recommended_list, bought_list, k=5):\n",
    "    bought_list = np.array(bought_list)\n",
    "    recommended_list = np.array(recommended_list)\n",
    "    \n",
    "    #TODO: Ваш код здесь\n",
    "    reciprocal_rank_list = []\n",
    "    for itm in zip(recommended_list, bought_list):\n",
    "        flags = np.isin(itm[0][:k], itm[1])\n",
    "        if flags.sum():\n",
    "            reciprocal_rank_list.append(1 / (np.nonzero(flags)[0][0] + 1))\n",
    "        else:\n",
    "            reciprocal_rank_list.append(0)\n",
    "    reciprocal_rank_list = np.array(reciprocal_rank_list)\n",
    "    \n",
    "    return reciprocal_rank_list.mean()"
   ]
  },
  {
   "cell_type": "code",
   "execution_count": 20,
   "metadata": {},
   "outputs": [],
   "source": [
    "recommended_list_for_3 = [[143, 156, 1134, 991, 27, 1543, 3345, 533, 11, 43],\n",
    "                          [1134, 533, 14, 4, 15, 1543, 1, 99, 27, 3345],\n",
    "                          [991, 3345, 27, 533, 43, 143, 1543, 156, 1134, 11]]\n",
    "\n",
    "bought_list_for_3 = [[521, 32, 143],\n",
    "                     [143, 156, 991, 43, 11], \n",
    "                     [1,2]] "
   ]
  },
  {
   "cell_type": "code",
   "execution_count": 21,
   "metadata": {},
   "outputs": [
    {
     "name": "stderr",
     "output_type": "stream",
     "text": [
      "<ipython-input-19-ff969082c5cb>:2: VisibleDeprecationWarning: Creating an ndarray from ragged nested sequences (which is a list-or-tuple of lists-or-tuples-or ndarrays with different lengths or shapes) is deprecated. If you meant to do this, you must specify 'dtype=object' when creating the ndarray\n",
      "  bought_list = np.array(bought_list)\n"
     ]
    },
    {
     "data": {
      "text/plain": [
       "0.3333333333333333"
      ]
     },
     "execution_count": 21,
     "metadata": {},
     "output_type": "execute_result"
    }
   ],
   "source": [
    "mrr_at_k(recommended_list_for_3, bought_list_for_3, k=5)"
   ]
  },
  {
   "cell_type": "markdown",
   "metadata": {
    "id": "1c3008cc-fd9e-44c6-8913-43d71ffb9cd7"
   },
   "source": [
    "## Задание 3*. Реализовать метрику nDCG@k\n",
    "Normalized discounted cumulative gain. Эту метрику реализовать будет немного сложнее.\n",
    "\n",
    "$$\\Large DCG@K(i) = \\sum_{j=1}^{K}\\frac{\\mathbb{1}_{r_{ij}}}{\\log_2 (j+1)}$$\n",
    "\n",
    "\n",
    "$\\Large \\mathbb{1}_{r_{ij}}$ -- индикаторная функция показывает что пользователь $i$ провзаимодействовал с продуктом $j$\n",
    "\n",
    "Для подсчета $nDCG$ нам необходимо найти максимально возможный $DCG$ для пользователя $i$  и рекомендаций длины $K$.\n",
    "Максимальный $DCG$ достигается когда мы порекомендовали максимально возможное количество релевантных продуктов и все они в начале списка рекомендаций.\n",
    "\n",
    "$$\\Large IDCG@K(i) = max(DCG@K(i)) = \\sum_{j=1}^{K}\\frac{\\mathbb{1}_{j\\le|Rel_i|}}{\\log_2 (j+1)}$$\n",
    "\n",
    "$$\\Large nDCG@K(i) = \\frac {DCG@K(i)}{IDCG@K(i)}$$\n",
    "\n",
    "$\\Large |Rel_i|$ -- количество релевантных продуктов для пользователя $i$\n",
    "\n"
   ]
  },
  {
   "cell_type": "code",
   "execution_count": null,
   "metadata": {
    "id": "67d7e53c-dfd8-4423-a107-f85880a45c7e"
   },
   "outputs": [],
   "source": [
    "def ndcg_at_k(recommended_list, bought_list, k=5):\n",
    "    bought_list = np.array(bought_list)\n",
    "    recommended_list = np.array(recommended_list)\n",
    "    \n",
    "    #TODO: Ваш код здесь\n",
    "    \n",
    "    return #Добавьте сюда результат расчета метрики\n",
    "    "
   ]
  }
 ],
 "metadata": {
  "colab": {
   "provenance": []
  },
  "kernelspec": {
   "display_name": "Python 3",
   "language": "python",
   "name": "python3"
  },
  "language_info": {
   "codemirror_mode": {
    "name": "ipython",
    "version": 3
   },
   "file_extension": ".py",
   "mimetype": "text/x-python",
   "name": "python",
   "nbconvert_exporter": "python",
   "pygments_lexer": "ipython3",
   "version": "3.8.5"
  }
 },
 "nbformat": 4,
 "nbformat_minor": 5
}
